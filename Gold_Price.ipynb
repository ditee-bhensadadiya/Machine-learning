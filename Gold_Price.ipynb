{
 "cells": [
  {
   "cell_type": "markdown",
   "id": "c2d766c9-c49f-4124-a01d-abcc1276b408",
   "metadata": {},
   "source": [
    "#### Importing the Libraries"
   ]
  },
  {
   "cell_type": "code",
   "execution_count": 1,
   "id": "d038f6e3-719c-40cf-8810-fe369dad678e",
   "metadata": {},
   "outputs": [],
   "source": [
    "import numpy as np\n",
    "import pandas as pd\n",
    "import matplotlib.pyplot as plt\n",
    "import seaborn as sns\n",
    "from sklearn.model_selection import train_test_split\n",
    "from sklearn.ensemble import RandomForestRegressor\n",
    "from sklearn import metrics"
   ]
  },
  {
   "cell_type": "markdown",
   "id": "c3788361-4071-40d0-84ac-3aa27e6665ef",
   "metadata": {},
   "source": [
    "#### Data Collection and Processing"
   ]
  },
  {
   "cell_type": "code",
   "execution_count": 2,
   "id": "cc5ec364-b930-4c13-be33-18aa06d926df",
   "metadata": {},
   "outputs": [],
   "source": [
    "# Loading the Dataset\n",
    "\n",
    "data=pd.read_csv(\"C:\\\\Users\\\\ditib\\\\Downloads\\\\gld_price_data.csv\")\n"
   ]
  },
  {
   "cell_type": "code",
   "execution_count": 3,
   "id": "f42e6001-453d-493b-8f26-a25d9b8a6fa1",
   "metadata": {},
   "outputs": [
    {
     "data": {
      "text/html": [
       "<div>\n",
       "<style scoped>\n",
       "    .dataframe tbody tr th:only-of-type {\n",
       "        vertical-align: middle;\n",
       "    }\n",
       "\n",
       "    .dataframe tbody tr th {\n",
       "        vertical-align: top;\n",
       "    }\n",
       "\n",
       "    .dataframe thead th {\n",
       "        text-align: right;\n",
       "    }\n",
       "</style>\n",
       "<table border=\"1\" class=\"dataframe\">\n",
       "  <thead>\n",
       "    <tr style=\"text-align: right;\">\n",
       "      <th></th>\n",
       "      <th>Date</th>\n",
       "      <th>SPX</th>\n",
       "      <th>GLD</th>\n",
       "      <th>USO</th>\n",
       "      <th>SLV</th>\n",
       "      <th>EUR/USD</th>\n",
       "    </tr>\n",
       "  </thead>\n",
       "  <tbody>\n",
       "    <tr>\n",
       "      <th>0</th>\n",
       "      <td>1/2/2008</td>\n",
       "      <td>1447.160034</td>\n",
       "      <td>84.860001</td>\n",
       "      <td>78.470001</td>\n",
       "      <td>15.180</td>\n",
       "      <td>1.471692</td>\n",
       "    </tr>\n",
       "    <tr>\n",
       "      <th>1</th>\n",
       "      <td>1/3/2008</td>\n",
       "      <td>1447.160034</td>\n",
       "      <td>85.570000</td>\n",
       "      <td>78.370003</td>\n",
       "      <td>15.285</td>\n",
       "      <td>1.474491</td>\n",
       "    </tr>\n",
       "    <tr>\n",
       "      <th>2</th>\n",
       "      <td>1/4/2008</td>\n",
       "      <td>1411.630005</td>\n",
       "      <td>85.129997</td>\n",
       "      <td>77.309998</td>\n",
       "      <td>15.167</td>\n",
       "      <td>1.475492</td>\n",
       "    </tr>\n",
       "    <tr>\n",
       "      <th>3</th>\n",
       "      <td>1/7/2008</td>\n",
       "      <td>1416.180054</td>\n",
       "      <td>84.769997</td>\n",
       "      <td>75.500000</td>\n",
       "      <td>15.053</td>\n",
       "      <td>1.468299</td>\n",
       "    </tr>\n",
       "    <tr>\n",
       "      <th>4</th>\n",
       "      <td>1/8/2008</td>\n",
       "      <td>1390.189941</td>\n",
       "      <td>86.779999</td>\n",
       "      <td>76.059998</td>\n",
       "      <td>15.590</td>\n",
       "      <td>1.557099</td>\n",
       "    </tr>\n",
       "  </tbody>\n",
       "</table>\n",
       "</div>"
      ],
      "text/plain": [
       "       Date          SPX        GLD        USO     SLV   EUR/USD\n",
       "0  1/2/2008  1447.160034  84.860001  78.470001  15.180  1.471692\n",
       "1  1/3/2008  1447.160034  85.570000  78.370003  15.285  1.474491\n",
       "2  1/4/2008  1411.630005  85.129997  77.309998  15.167  1.475492\n",
       "3  1/7/2008  1416.180054  84.769997  75.500000  15.053  1.468299\n",
       "4  1/8/2008  1390.189941  86.779999  76.059998  15.590  1.557099"
      ]
     },
     "execution_count": 3,
     "metadata": {},
     "output_type": "execute_result"
    }
   ],
   "source": [
    "data.head()"
   ]
  },
  {
   "cell_type": "code",
   "execution_count": 4,
   "id": "b596ac90-2a05-49d3-b7b6-5c84960e0162",
   "metadata": {},
   "outputs": [
    {
     "data": {
      "text/html": [
       "<div>\n",
       "<style scoped>\n",
       "    .dataframe tbody tr th:only-of-type {\n",
       "        vertical-align: middle;\n",
       "    }\n",
       "\n",
       "    .dataframe tbody tr th {\n",
       "        vertical-align: top;\n",
       "    }\n",
       "\n",
       "    .dataframe thead th {\n",
       "        text-align: right;\n",
       "    }\n",
       "</style>\n",
       "<table border=\"1\" class=\"dataframe\">\n",
       "  <thead>\n",
       "    <tr style=\"text-align: right;\">\n",
       "      <th></th>\n",
       "      <th>Date</th>\n",
       "      <th>SPX</th>\n",
       "      <th>GLD</th>\n",
       "      <th>USO</th>\n",
       "      <th>SLV</th>\n",
       "      <th>EUR/USD</th>\n",
       "    </tr>\n",
       "  </thead>\n",
       "  <tbody>\n",
       "    <tr>\n",
       "      <th>2285</th>\n",
       "      <td>5/8/2018</td>\n",
       "      <td>2671.919922</td>\n",
       "      <td>124.589996</td>\n",
       "      <td>14.0600</td>\n",
       "      <td>15.5100</td>\n",
       "      <td>1.186789</td>\n",
       "    </tr>\n",
       "    <tr>\n",
       "      <th>2286</th>\n",
       "      <td>5/9/2018</td>\n",
       "      <td>2697.790039</td>\n",
       "      <td>124.330002</td>\n",
       "      <td>14.3700</td>\n",
       "      <td>15.5300</td>\n",
       "      <td>1.184722</td>\n",
       "    </tr>\n",
       "    <tr>\n",
       "      <th>2287</th>\n",
       "      <td>5/10/2018</td>\n",
       "      <td>2723.070068</td>\n",
       "      <td>125.180000</td>\n",
       "      <td>14.4100</td>\n",
       "      <td>15.7400</td>\n",
       "      <td>1.191753</td>\n",
       "    </tr>\n",
       "    <tr>\n",
       "      <th>2288</th>\n",
       "      <td>5/14/2018</td>\n",
       "      <td>2730.129883</td>\n",
       "      <td>124.489998</td>\n",
       "      <td>14.3800</td>\n",
       "      <td>15.5600</td>\n",
       "      <td>1.193118</td>\n",
       "    </tr>\n",
       "    <tr>\n",
       "      <th>2289</th>\n",
       "      <td>5/16/2018</td>\n",
       "      <td>2725.780029</td>\n",
       "      <td>122.543800</td>\n",
       "      <td>14.4058</td>\n",
       "      <td>15.4542</td>\n",
       "      <td>1.182033</td>\n",
       "    </tr>\n",
       "  </tbody>\n",
       "</table>\n",
       "</div>"
      ],
      "text/plain": [
       "           Date          SPX         GLD      USO      SLV   EUR/USD\n",
       "2285   5/8/2018  2671.919922  124.589996  14.0600  15.5100  1.186789\n",
       "2286   5/9/2018  2697.790039  124.330002  14.3700  15.5300  1.184722\n",
       "2287  5/10/2018  2723.070068  125.180000  14.4100  15.7400  1.191753\n",
       "2288  5/14/2018  2730.129883  124.489998  14.3800  15.5600  1.193118\n",
       "2289  5/16/2018  2725.780029  122.543800  14.4058  15.4542  1.182033"
      ]
     },
     "execution_count": 4,
     "metadata": {},
     "output_type": "execute_result"
    }
   ],
   "source": [
    "data.tail()"
   ]
  },
  {
   "cell_type": "code",
   "execution_count": 5,
   "id": "d97c727a-3d11-421e-991a-ee0d5ab6c88b",
   "metadata": {},
   "outputs": [
    {
     "data": {
      "text/plain": [
       "(2290, 6)"
      ]
     },
     "execution_count": 5,
     "metadata": {},
     "output_type": "execute_result"
    }
   ],
   "source": [
    "data.shape"
   ]
  },
  {
   "cell_type": "markdown",
   "id": "3cab4483-ff14-4025-983b-1203fc9b9127",
   "metadata": {},
   "source": [
    "#### Basic Info about Data"
   ]
  },
  {
   "cell_type": "code",
   "execution_count": 6,
   "id": "180bfab1-d074-444f-a82c-8e79bbd5b3fd",
   "metadata": {},
   "outputs": [
    {
     "name": "stdout",
     "output_type": "stream",
     "text": [
      "<class 'pandas.core.frame.DataFrame'>\n",
      "RangeIndex: 2290 entries, 0 to 2289\n",
      "Data columns (total 6 columns):\n",
      " #   Column   Non-Null Count  Dtype  \n",
      "---  ------   --------------  -----  \n",
      " 0   Date     2290 non-null   object \n",
      " 1   SPX      2290 non-null   float64\n",
      " 2   GLD      2290 non-null   float64\n",
      " 3   USO      2290 non-null   float64\n",
      " 4   SLV      2290 non-null   float64\n",
      " 5   EUR/USD  2290 non-null   float64\n",
      "dtypes: float64(5), object(1)\n",
      "memory usage: 107.5+ KB\n"
     ]
    }
   ],
   "source": [
    "data.info()"
   ]
  },
  {
   "cell_type": "markdown",
   "id": "4c8ac90a-77cc-455e-9b7b-487ec089a06c",
   "metadata": {},
   "source": [
    "#### Statistical measures of Data"
   ]
  },
  {
   "cell_type": "code",
   "execution_count": 7,
   "id": "e2d5ea3f-b033-4e98-a6c0-b00e9cb780ec",
   "metadata": {},
   "outputs": [
    {
     "data": {
      "text/html": [
       "<div>\n",
       "<style scoped>\n",
       "    .dataframe tbody tr th:only-of-type {\n",
       "        vertical-align: middle;\n",
       "    }\n",
       "\n",
       "    .dataframe tbody tr th {\n",
       "        vertical-align: top;\n",
       "    }\n",
       "\n",
       "    .dataframe thead th {\n",
       "        text-align: right;\n",
       "    }\n",
       "</style>\n",
       "<table border=\"1\" class=\"dataframe\">\n",
       "  <thead>\n",
       "    <tr style=\"text-align: right;\">\n",
       "      <th></th>\n",
       "      <th>SPX</th>\n",
       "      <th>GLD</th>\n",
       "      <th>USO</th>\n",
       "      <th>SLV</th>\n",
       "      <th>EUR/USD</th>\n",
       "    </tr>\n",
       "  </thead>\n",
       "  <tbody>\n",
       "    <tr>\n",
       "      <th>count</th>\n",
       "      <td>2290.000000</td>\n",
       "      <td>2290.000000</td>\n",
       "      <td>2290.000000</td>\n",
       "      <td>2290.000000</td>\n",
       "      <td>2290.000000</td>\n",
       "    </tr>\n",
       "    <tr>\n",
       "      <th>mean</th>\n",
       "      <td>1654.315776</td>\n",
       "      <td>122.732875</td>\n",
       "      <td>31.842221</td>\n",
       "      <td>20.084997</td>\n",
       "      <td>1.283653</td>\n",
       "    </tr>\n",
       "    <tr>\n",
       "      <th>std</th>\n",
       "      <td>519.111540</td>\n",
       "      <td>23.283346</td>\n",
       "      <td>19.523517</td>\n",
       "      <td>7.092566</td>\n",
       "      <td>0.131547</td>\n",
       "    </tr>\n",
       "    <tr>\n",
       "      <th>min</th>\n",
       "      <td>676.530029</td>\n",
       "      <td>70.000000</td>\n",
       "      <td>7.960000</td>\n",
       "      <td>8.850000</td>\n",
       "      <td>1.039047</td>\n",
       "    </tr>\n",
       "    <tr>\n",
       "      <th>25%</th>\n",
       "      <td>1239.874969</td>\n",
       "      <td>109.725000</td>\n",
       "      <td>14.380000</td>\n",
       "      <td>15.570000</td>\n",
       "      <td>1.171313</td>\n",
       "    </tr>\n",
       "    <tr>\n",
       "      <th>50%</th>\n",
       "      <td>1551.434998</td>\n",
       "      <td>120.580002</td>\n",
       "      <td>33.869999</td>\n",
       "      <td>17.268500</td>\n",
       "      <td>1.303297</td>\n",
       "    </tr>\n",
       "    <tr>\n",
       "      <th>75%</th>\n",
       "      <td>2073.010070</td>\n",
       "      <td>132.840004</td>\n",
       "      <td>37.827501</td>\n",
       "      <td>22.882500</td>\n",
       "      <td>1.369971</td>\n",
       "    </tr>\n",
       "    <tr>\n",
       "      <th>max</th>\n",
       "      <td>2872.870117</td>\n",
       "      <td>184.589996</td>\n",
       "      <td>117.480003</td>\n",
       "      <td>47.259998</td>\n",
       "      <td>1.598798</td>\n",
       "    </tr>\n",
       "  </tbody>\n",
       "</table>\n",
       "</div>"
      ],
      "text/plain": [
       "               SPX          GLD          USO          SLV      EUR/USD\n",
       "count  2290.000000  2290.000000  2290.000000  2290.000000  2290.000000\n",
       "mean   1654.315776   122.732875    31.842221    20.084997     1.283653\n",
       "std     519.111540    23.283346    19.523517     7.092566     0.131547\n",
       "min     676.530029    70.000000     7.960000     8.850000     1.039047\n",
       "25%    1239.874969   109.725000    14.380000    15.570000     1.171313\n",
       "50%    1551.434998   120.580002    33.869999    17.268500     1.303297\n",
       "75%    2073.010070   132.840004    37.827501    22.882500     1.369971\n",
       "max    2872.870117   184.589996   117.480003    47.259998     1.598798"
      ]
     },
     "execution_count": 7,
     "metadata": {},
     "output_type": "execute_result"
    }
   ],
   "source": [
    "data.describe()"
   ]
  },
  {
   "cell_type": "raw",
   "id": "aff27a2a-436c-4412-9f41-6e7cf8293bfa",
   "metadata": {},
   "source": [
    "Correlation:\n",
    "1. Positive Correlation\n",
    "2. Negative Correlation"
   ]
  },
  {
   "cell_type": "code",
   "execution_count": 8,
   "id": "895b7199-5827-448a-a4d3-26549e8aac5f",
   "metadata": {},
   "outputs": [],
   "source": [
    "numeric_data =data.select_dtypes(include=[np.number])\n",
    "cor = numeric_data.corr()"
   ]
  },
  {
   "cell_type": "markdown",
   "id": "0145c1d5-47f0-48f3-a70c-21c8b6b9799a",
   "metadata": {},
   "source": [
    "#### Constructing a heatmap to understand the correlation"
   ]
  },
  {
   "cell_type": "code",
   "execution_count": 9,
   "id": "662791be-e562-4f93-b2cd-2d2c9ad0b767",
   "metadata": {},
   "outputs": [
    {
     "data": {
      "text/plain": [
       "<Axes: >"
      ]
     },
     "execution_count": 9,
     "metadata": {},
     "output_type": "execute_result"
    },
    {
     "data": {
      "image/png": "[encoded data removed]",
      "text/plain": [
       "<Figure size 800x800 with 2 Axes>"
      ]
     },
     "metadata": {},
     "output_type": "display_data"
    }
   ],
   "source": [
    "plt.figure(figsize=(8,8))\n",
    "sns.heatmap(cor, cbar=True, square=True, fmt='.1f',annot=True, annot_kws={\"size\":8},cmap='Blues')"
   ]
  },
  {
   "cell_type": "markdown",
   "id": "27d96834-d93c-485d-a303-f6bdf6cab3b3",
   "metadata": {},
   "source": [
    "#### Correlation values of GLD"
   ]
  },
  {
   "cell_type": "code",
   "execution_count": 10,
   "id": "87e72fc8-a2ff-4916-b741-00530d7d3285",
   "metadata": {},
   "outputs": [
    {
     "name": "stdout",
     "output_type": "stream",
     "text": [
      "SPX        0.049345\n",
      "GLD        1.000000\n",
      "USO       -0.186360\n",
      "SLV        0.866632\n",
      "EUR/USD   -0.024375\n",
      "Name: GLD, dtype: float64\n"
     ]
    }
   ],
   "source": [
    "print(cor['GLD'])"
   ]
  },
  {
   "cell_type": "markdown",
   "id": "8f0fd4dc-da16-42ef-a5eb-b5c32660d748",
   "metadata": {},
   "source": [
    "#### Check the distribution of the Gold Price"
   ]
  },
  {
   "cell_type": "code",
   "execution_count": 11,
   "id": "497f966a-0edf-462f-bead-38336decd5b2",
   "metadata": {},
   "outputs": [
    {
     "name": "stderr",
     "output_type": "stream",
     "text": [
      "C:\\Users\\ditib\\AppData\\Local\\Temp\\ipykernel_8728\\3224253248.py:1: UserWarning: \n",
      "\n",
      "`distplot` is a deprecated function and will be removed in seaborn v0.14.0.\n",
      "\n",
      "Please adapt your code to use either `displot` (a figure-level function with\n",
      "similar flexibility) or `histplot` (an axes-level function for histograms).\n",
      "\n",
      "For a guide to updating your code to use the new functions, please see\n",
      "https://gist.github.com/mwaskom/de44147ed2974457ad6372750bbe5751\n",
      "\n",
      "  sns.distplot(data['GLD'],color='green')\n"
     ]
    },
    {
     "data": {
      "text/plain": [
       "<Axes: xlabel='GLD', ylabel='Density'>"
      ]
     },
     "execution_count": 11,
     "metadata": {},
     "output_type": "execute_result"
    },
    {
     "data": {
      "image/png": "[encoded data removed]",
      "text/plain": [
       "<Figure size 640x480 with 1 Axes>"
      ]
     },
     "metadata": {},
     "output_type": "display_data"
    }
   ],
   "source": [
    "sns.distplot(data['GLD'],color='green')"
   ]
  },
  {
   "cell_type": "markdown",
   "id": "eced5958-6bb7-481a-b064-9194af2020ce",
   "metadata": {},
   "source": [
    "#### Splitting the Features and Target"
   ]
  },
  {
   "cell_type": "code",
   "execution_count": 12,
   "id": "88098874-bd59-41ac-b892-6c1402cc8eaa",
   "metadata": {},
   "outputs": [],
   "source": [
    "x = data.drop(['Date','GLD'],axis=1)\n",
    "y = data['GLD']"
   ]
  },
  {
   "cell_type": "code",
   "execution_count": 13,
   "id": "9c8bc243-8745-44c7-a0b0-950f6bb32e73",
   "metadata": {},
   "outputs": [
    {
     "name": "stdout",
     "output_type": "stream",
     "text": [
      "              SPX        USO      SLV   EUR/USD\n",
      "0     1447.160034  78.470001  15.1800  1.471692\n",
      "1     1447.160034  78.370003  15.2850  1.474491\n",
      "2     1411.630005  77.309998  15.1670  1.475492\n",
      "3     1416.180054  75.500000  15.0530  1.468299\n",
      "4     1390.189941  76.059998  15.5900  1.557099\n",
      "...           ...        ...      ...       ...\n",
      "2285  2671.919922  14.060000  15.5100  1.186789\n",
      "2286  2697.790039  14.370000  15.5300  1.184722\n",
      "2287  2723.070068  14.410000  15.7400  1.191753\n",
      "2288  2730.129883  14.380000  15.5600  1.193118\n",
      "2289  2725.780029  14.405800  15.4542  1.182033\n",
      "\n",
      "[2290 rows x 4 columns]\n"
     ]
    }
   ],
   "source": [
    "print(x)"
   ]
  },
  {
   "cell_type": "code",
   "execution_count": 14,
   "id": "5d38c91e-cb84-4287-be5a-01a2a80fd8c8",
   "metadata": {},
   "outputs": [
    {
     "name": "stdout",
     "output_type": "stream",
     "text": [
      "0        84.860001\n",
      "1        85.570000\n",
      "2        85.129997\n",
      "3        84.769997\n",
      "4        86.779999\n",
      "           ...    \n",
      "2285    124.589996\n",
      "2286    124.330002\n",
      "2287    125.180000\n",
      "2288    124.489998\n",
      "2289    122.543800\n",
      "Name: GLD, Length: 2290, dtype: float64\n"
     ]
    }
   ],
   "source": [
    "print(y)"
   ]
  },
  {
   "cell_type": "markdown",
   "id": "73cb18c5-fa94-4bd7-a447-11edcb00008d",
   "metadata": {},
   "source": [
    "#### Splitting Training Data and Testing Data "
   ]
  },
  {
   "cell_type": "code",
   "execution_count": 15,
   "id": "87a0b9f7-9fba-4f41-89c1-c34f26a37978",
   "metadata": {},
   "outputs": [],
   "source": [
    "x_train, x_test, y_train, y_test = train_test_split(x,y, test_size=0.2, random_state=2)"
   ]
  },
  {
   "cell_type": "markdown",
   "id": "14eb0901-3a45-43f2-b73f-67f13af03ddd",
   "metadata": {},
   "source": [
    "#### Model Training: Random Forest Regression"
   ]
  },
  {
   "cell_type": "code",
   "execution_count": 16,
   "id": "deeb5716-8360-48f7-959a-c8e8a9440fbf",
   "metadata": {},
   "outputs": [],
   "source": [
    "reg = RandomForestRegressor(n_estimators=100)"
   ]
  },
  {
   "cell_type": "markdown",
   "id": "66fa1b76-dc8c-428a-8c11-825cc5a2f866",
   "metadata": {},
   "source": [
    "#### Training the Model"
   ]
  },
  {
   "cell_type": "code",
   "execution_count": 17,
   "id": "be551292-1b40-4809-8ba6-a7853b9fd1b2",
   "metadata": {},
   "outputs": [
    {
     "data": {
      "text/html": [
       "<style>#sk-container-id-1 {\n",
       "  /* Definition of color scheme common for light and dark mode */\n",
       "  --sklearn-color-text: black;\n",
       "  --sklearn-color-line: gray;\n",
       "  /* Definition of color scheme for unfitted estimators */\n",
       "  --sklearn-color-unfitted-level-0: #fff5e6;\n",
       "  --sklearn-color-unfitted-level-1: #f6e4d2;\n",
       "  --sklearn-color-unfitted-level-2: #ffe0b3;\n",
       "  --sklearn-color-unfitted-level-3: chocolate;\n",
       "  /* Definition of color scheme for fitted estimators */\n",
       "  --sklearn-color-fitted-level-0: #f0f8ff;\n",
       "  --sklearn-color-fitted-level-1: #d4ebff;\n",
       "  --sklearn-color-fitted-level-2: #b3dbfd;\n",
       "  --sklearn-color-fitted-level-3: cornflowerblue;\n",
       "\n",
       "  /* Specific color for light theme */\n",
       "  --sklearn-color-text-on-default-background: var(--sg-text-color, var(--theme-code-foreground, var(--jp-content-font-color1, black)));\n",
       "  --sklearn-color-background: var(--sg-background-color, var(--theme-background, var(--jp-layout-color0, white)));\n",
       "  --sklearn-color-border-box: var(--sg-text-color, var(--theme-code-foreground, var(--jp-content-font-color1, black)));\n",
       "  --sklearn-color-icon: #696969;\n",
       "\n",
       "  @media (prefers-color-scheme: dark) {\n",
       "    /* Redefinition of color scheme for dark theme */\n",
       "    --sklearn-color-text-on-default-background: var(--sg-text-color, var(--theme-code-foreground, var(--jp-content-font-color1, white)));\n",
       "    --sklearn-color-background: var(--sg-background-color, var(--theme-background, var(--jp-layout-color0, #111)));\n",
       "    --sklearn-color-border-box: var(--sg-text-color, var(--theme-code-foreground, var(--jp-content-font-color1, white)));\n",
       "    --sklearn-color-icon: #878787;\n",
       "  }\n",
       "}\n",
       "\n",
       "#sk-container-id-1 {\n",
       "  color: var(--sklearn-color-text);\n",
       "}\n",
       "\n",
       "#sk-container-id-1 pre {\n",
       "  padding: 0;\n",
       "}\n",
       "\n",
       "#sk-container-id-1 input.sk-hidden--visually {\n",
       "  border: 0;\n",
       "  clip: rect(1px 1px 1px 1px);\n",
       "  clip: rect(1px, 1px, 1px, 1px);\n",
       "  height: 1px;\n",
       "  margin: -1px;\n",
       "  overflow: hidden;\n",
       "  padding: 0;\n",
       "  position: absolute;\n",
       "  width: 1px;\n",
       "}\n",
       "\n",
       "#sk-container-id-1 div.sk-dashed-wrapped {\n",
       "  border: 1px dashed var(--sklearn-color-line);\n",
       "  margin: 0 0.4em 0.5em 0.4em;\n",
       "  box-sizing: border-box;\n",
       "  padding-bottom: 0.4em;\n",
       "  background-color: var(--sklearn-color-background);\n",
       "}\n",
       "\n",
       "#sk-container-id-1 div.sk-container {\n",
       "  /* jupyter's `normalize.less` sets `[hidden] { display: none; }`\n",
       "     but bootstrap.min.css set `[hidden] { display: none !important; }`\n",
       "     so we also need the `!important` here to be able to override the\n",
       "     default hidden behavior on the sphinx rendered scikit-learn.org.\n",
       "     See: https://github.com/scikit-learn/scikit-learn/issues/21755 */\n",
       "  display: inline-block !important;\n",
       "  position: relative;\n",
       "}\n",
       "\n",
       "#sk-container-id-1 div.sk-text-repr-fallback {\n",
       "  display: none;\n",
       "}\n",
       "\n",
       "div.sk-parallel-item,\n",
       "div.sk-serial,\n",
       "div.sk-item {\n",
       "  /* draw centered vertical line to link estimators */\n",
       "  background-image: linear-gradient(var(--sklearn-color-text-on-default-background), var(--sklearn-color-text-on-default-background));\n",
       "  background-size: 2px 100%;\n",
       "  background-repeat: no-repeat;\n",
       "  background-position: center center;\n",
       "}\n",
       "\n",
       "/* Parallel-specific style estimator block */\n",
       "\n",
       "#sk-container-id-1 div.sk-parallel-item::after {\n",
       "  content: \"\";\n",
       "  width: 100%;\n",
       "  border-bottom: 2px solid var(--sklearn-color-text-on-default-background);\n",
       "  flex-grow: 1;\n",
       "}\n",
       "\n",
       "#sk-container-id-1 div.sk-parallel {\n",
       "  display: flex;\n",
       "  align-items: stretch;\n",
       "  justify-content: center;\n",
       "  background-color: var(--sklearn-color-background);\n",
       "  position: relative;\n",
       "}\n",
       "\n",
       "#sk-container-id-1 div.sk-parallel-item {\n",
       "  display: flex;\n",
       "  flex-direction: column;\n",
       "}\n",
       "\n",
       "#sk-container-id-1 div.sk-parallel-item:first-child::after {\n",
       "  align-self: flex-end;\n",
       "  width: 50%;\n",
       "}\n",
       "\n",
       "#sk-container-id-1 div.sk-parallel-item:last-child::after {\n",
       "  align-self: flex-start;\n",
       "  width: 50%;\n",
       "}\n",
       "\n",
       "#sk-container-id-1 div.sk-parallel-item:only-child::after {\n",
       "  width: 0;\n",
       "}\n",
       "\n",
       "/* Serial-specific style estimator block */\n",
       "\n",
       "#sk-container-id-1 div.sk-serial {\n",
       "  display: flex;\n",
       "  flex-direction: column;\n",
       "  align-items: center;\n",
       "  background-color: var(--sklearn-color-background);\n",
       "  padding-right: 1em;\n",
       "  padding-left: 1em;\n",
       "}\n",
       "\n",
       "\n",
       "/* Toggleable style: style used for estimator/Pipeline/ColumnTransformer box that is\n",
       "clickable and can be expanded/collapsed.\n",
       "- Pipeline and ColumnTransformer use this feature and define the default style\n",
       "- Estimators will overwrite some part of the style using the `sk-estimator` class\n",
       "*/\n",
       "\n",
       "/* Pipeline and ColumnTransformer style (default) */\n",
       "\n",
       "#sk-container-id-1 div.sk-toggleable {\n",
       "  /* Default theme specific background. It is overwritten whether we have a\n",
       "  specific estimator or a Pipeline/ColumnTransformer */\n",
       "  background-color: var(--sklearn-color-background);\n",
       "}\n",
       "\n",
       "/* Toggleable label */\n",
       "#sk-container-id-1 label.sk-toggleable__label {\n",
       "  cursor: pointer;\n",
       "  display: block;\n",
       "  width: 100%;\n",
       "  margin-bottom: 0;\n",
       "  padding: 0.5em;\n",
       "  box-sizing: border-box;\n",
       "  text-align: center;\n",
       "}\n",
       "\n",
       "#sk-container-id-1 label.sk-toggleable__label-arrow:before {\n",
       "  /* Arrow on the left of the label */\n",
       "  content: \"▸\";\n",
       "  float: left;\n",
       "  margin-right: 0.25em;\n",
       "  color: var(--sklearn-color-icon);\n",
       "}\n",
       "\n",
       "#sk-container-id-1 label.sk-toggleable__label-arrow:hover:before {\n",
       "  color: var(--sklearn-color-text);\n",
       "}\n",
       "\n",
       "/* Toggleable content - dropdown */\n",
       "\n",
       "#sk-container-id-1 div.sk-toggleable__content {\n",
       "  max-height: 0;\n",
       "  max-width: 0;\n",
       "  overflow: hidden;\n",
       "  text-align: left;\n",
       "  /* unfitted */\n",
       "  background-color: var(--sklearn-color-unfitted-level-0);\n",
       "}\n",
       "\n",
       "#sk-container-id-1 div.sk-toggleable__content.fitted {\n",
       "  /* fitted */\n",
       "  background-color: var(--sklearn-color-fitted-level-0);\n",
       "}\n",
       "\n",
       "#sk-container-id-1 div.sk-toggleable__content pre {\n",
       "  margin: 0.2em;\n",
       "  border-radius: 0.25em;\n",
       "  color: var(--sklearn-color-text);\n",
       "  /* unfitted */\n",
       "  background-color: var(--sklearn-color-unfitted-level-0);\n",
       "}\n",
       "\n",
       "#sk-container-id-1 div.sk-toggleable__content.fitted pre {\n",
       "  /* unfitted */\n",
       "  background-color: var(--sklearn-color-fitted-level-0);\n",
       "}\n",
       "\n",
       "#sk-container-id-1 input.sk-toggleable__control:checked~div.sk-toggleable__content {\n",
       "  /* Expand drop-down */\n",
       "  max-height: 200px;\n",
       "  max-width: 100%;\n",
       "  overflow: auto;\n",
       "}\n",
       "\n",
       "#sk-container-id-1 input.sk-toggleable__control:checked~label.sk-toggleable__label-arrow:before {\n",
       "  content: \"▾\";\n",
       "}\n",
       "\n",
       "/* Pipeline/ColumnTransformer-specific style */\n",
       "\n",
       "#sk-container-id-1 div.sk-label input.sk-toggleable__control:checked~label.sk-toggleable__label {\n",
       "  color: var(--sklearn-color-text);\n",
       "  background-color: var(--sklearn-color-unfitted-level-2);\n",
       "}\n",
       "\n",
       "#sk-container-id-1 div.sk-label.fitted input.sk-toggleable__control:checked~label.sk-toggleable__label {\n",
       "  background-color: var(--sklearn-color-fitted-level-2);\n",
       "}\n",
       "\n",
       "/* Estimator-specific style */\n",
       "\n",
       "/* Colorize estimator box */\n",
       "#sk-container-id-1 div.sk-estimator input.sk-toggleable__control:checked~label.sk-toggleable__label {\n",
       "  /* unfitted */\n",
       "  background-color: var(--sklearn-color-unfitted-level-2);\n",
       "}\n",
       "\n",
       "#sk-container-id-1 div.sk-estimator.fitted input.sk-toggleable__control:checked~label.sk-toggleable__label {\n",
       "  /* fitted */\n",
       "  background-color: var(--sklearn-color-fitted-level-2);\n",
       "}\n",
       "\n",
       "#sk-container-id-1 div.sk-label label.sk-toggleable__label,\n",
       "#sk-container-id-1 div.sk-label label {\n",
       "  /* The background is the default theme color */\n",
       "  color: var(--sklearn-color-text-on-default-background);\n",
       "}\n",
       "\n",
       "/* On hover, darken the color of the background */\n",
       "#sk-container-id-1 div.sk-label:hover label.sk-toggleable__label {\n",
       "  color: var(--sklearn-color-text);\n",
       "  background-color: var(--sklearn-color-unfitted-level-2);\n",
       "}\n",
       "\n",
       "/* Label box, darken color on hover, fitted */\n",
       "#sk-container-id-1 div.sk-label.fitted:hover label.sk-toggleable__label.fitted {\n",
       "  color: var(--sklearn-color-text);\n",
       "  background-color: var(--sklearn-color-fitted-level-2);\n",
       "}\n",
       "\n",
       "/* Estimator label */\n",
       "\n",
       "#sk-container-id-1 div.sk-label label {\n",
       "  font-family: monospace;\n",
       "  font-weight: bold;\n",
       "  display: inline-block;\n",
       "  line-height: 1.2em;\n",
       "}\n",
       "\n",
       "#sk-container-id-1 div.sk-label-container {\n",
       "  text-align: center;\n",
       "}\n",
       "\n",
       "/* Estimator-specific */\n",
       "#sk-container-id-1 div.sk-estimator {\n",
       "  font-family: monospace;\n",
       "  border: 1px dotted var(--sklearn-color-border-box);\n",
       "  border-radius: 0.25em;\n",
       "  box-sizing: border-box;\n",
       "  margin-bottom: 0.5em;\n",
       "  /* unfitted */\n",
       "  background-color: var(--sklearn-color-unfitted-level-0);\n",
       "}\n",
       "\n",
       "#sk-container-id-1 div.sk-estimator.fitted {\n",
       "  /* fitted */\n",
       "  background-color: var(--sklearn-color-fitted-level-0);\n",
       "}\n",
       "\n",
       "/* on hover */\n",
       "#sk-container-id-1 div.sk-estimator:hover {\n",
       "  /* unfitted */\n",
       "  background-color: var(--sklearn-color-unfitted-level-2);\n",
       "}\n",
       "\n",
       "#sk-container-id-1 div.sk-estimator.fitted:hover {\n",
       "  /* fitted */\n",
       "  background-color: var(--sklearn-color-fitted-level-2);\n",
       "}\n",
       "\n",
       "/* Specification for estimator info (e.g. \"i\" and \"?\") */\n",
       "\n",
       "/* Common style for \"i\" and \"?\" */\n",
       "\n",
       ".sk-estimator-doc-link,\n",
       "a:link.sk-estimator-doc-link,\n",
       "a:visited.sk-estimator-doc-link {\n",
       "  float: right;\n",
       "  font-size: smaller;\n",
       "  line-height: 1em;\n",
       "  font-family: monospace;\n",
       "  background-color: var(--sklearn-color-background);\n",
       "  border-radius: 1em;\n",
       "  height: 1em;\n",
       "  width: 1em;\n",
       "  text-decoration: none !important;\n",
       "  margin-left: 1ex;\n",
       "  /* unfitted */\n",
       "  border: var(--sklearn-color-unfitted-level-1) 1pt solid;\n",
       "  color: var(--sklearn-color-unfitted-level-1);\n",
       "}\n",
       "\n",
       ".sk-estimator-doc-link.fitted,\n",
       "a:link.sk-estimator-doc-link.fitted,\n",
       "a:visited.sk-estimator-doc-link.fitted {\n",
       "  /* fitted */\n",
       "  border: var(--sklearn-color-fitted-level-1) 1pt solid;\n",
       "  color: var(--sklearn-color-fitted-level-1);\n",
       "}\n",
       "\n",
       "/* On hover */\n",
       "div.sk-estimator:hover .sk-estimator-doc-link:hover,\n",
       ".sk-estimator-doc-link:hover,\n",
       "div.sk-label-container:hover .sk-estimator-doc-link:hover,\n",
       ".sk-estimator-doc-link:hover {\n",
       "  /* unfitted */\n",
       "  background-color: var(--sklearn-color-unfitted-level-3);\n",
       "  color: var(--sklearn-color-background);\n",
       "  text-decoration: none;\n",
       "}\n",
       "\n",
       "div.sk-estimator.fitted:hover .sk-estimator-doc-link.fitted:hover,\n",
       ".sk-estimator-doc-link.fitted:hover,\n",
       "div.sk-label-container:hover .sk-estimator-doc-link.fitted:hover,\n",
       ".sk-estimator-doc-link.fitted:hover {\n",
       "  /* fitted */\n",
       "  background-color: var(--sklearn-color-fitted-level-3);\n",
       "  color: var(--sklearn-color-background);\n",
       "  text-decoration: none;\n",
       "}\n",
       "\n",
       "/* Span, style for the box shown on hovering the info icon */\n",
       ".sk-estimator-doc-link span {\n",
       "  display: none;\n",
       "  z-index: 9999;\n",
       "  position: relative;\n",
       "  font-weight: normal;\n",
       "  right: .2ex;\n",
       "  padding: .5ex;\n",
       "  margin: .5ex;\n",
       "  width: min-content;\n",
       "  min-width: 20ex;\n",
       "  max-width: 50ex;\n",
       "  color: var(--sklearn-color-text);\n",
       "  box-shadow: 2pt 2pt 4pt #999;\n",
       "  /* unfitted */\n",
       "  background: var(--sklearn-color-unfitted-level-0);\n",
       "  border: .5pt solid var(--sklearn-color-unfitted-level-3);\n",
       "}\n",
       "\n",
       ".sk-estimator-doc-link.fitted span {\n",
       "  /* fitted */\n",
       "  background: var(--sklearn-color-fitted-level-0);\n",
       "  border: var(--sklearn-color-fitted-level-3);\n",
       "}\n",
       "\n",
       ".sk-estimator-doc-link:hover span {\n",
       "  display: block;\n",
       "}\n",
       "\n",
       "/* \"?\"-specific style due to the `<a>` HTML tag */\n",
       "\n",
       "#sk-container-id-1 a.estimator_doc_link {\n",
       "  float: right;\n",
       "  font-size: 1rem;\n",
       "  line-height: 1em;\n",
       "  font-family: monospace;\n",
       "  background-color: var(--sklearn-color-background);\n",
       "  border-radius: 1rem;\n",
       "  height: 1rem;\n",
       "  width: 1rem;\n",
       "  text-decoration: none;\n",
       "  /* unfitted */\n",
       "  color: var(--sklearn-color-unfitted-level-1);\n",
       "  border: var(--sklearn-color-unfitted-level-1) 1pt solid;\n",
       "}\n",
       "\n",
       "#sk-container-id-1 a.estimator_doc_link.fitted {\n",
       "  /* fitted */\n",
       "  border: var(--sklearn-color-fitted-level-1) 1pt solid;\n",
       "  color: var(--sklearn-color-fitted-level-1);\n",
       "}\n",
       "\n",
       "/* On hover */\n",
       "#sk-container-id-1 a.estimator_doc_link:hover {\n",
       "  /* unfitted */\n",
       "  background-color: var(--sklearn-color-unfitted-level-3);\n",
       "  color: var(--sklearn-color-background);\n",
       "  text-decoration: none;\n",
       "}\n",
       "\n",
       "#sk-container-id-1 a.estimator_doc_link.fitted:hover {\n",
       "  /* fitted */\n",
       "  background-color: var(--sklearn-color-fitted-level-3);\n",
       "}\n",
       "</style><div id=\"sk-container-id-1\" class=\"sk-top-container\"><div class=\"sk-text-repr-fallback\"><pre>RandomForestRegressor()</pre><b>In a Jupyter environment, please rerun this cell to show the HTML representation or trust the notebook. <br />On GitHub, the HTML representation is unable to render, please try loading this page with nbviewer.org.</b></div><div class=\"sk-container\" hidden><div class=\"sk-item\"><div class=\"sk-estimator fitted sk-toggleable\"><input class=\"sk-toggleable__control sk-hidden--visually\" id=\"sk-estimator-id-1\" type=\"checkbox\" checked><label for=\"sk-estimator-id-1\" class=\"sk-toggleable__label fitted sk-toggleable__label-arrow fitted\">&nbsp;&nbsp;RandomForestRegressor<a class=\"sk-estimator-doc-link fitted\" rel=\"noreferrer\" target=\"_blank\" href=\"https://scikit-learn.org/1.5/modules/generated/sklearn.ensemble.RandomForestRegressor.html\">?<span>Documentation for RandomForestRegressor</span></a><span class=\"sk-estimator-doc-link fitted\">i<span>Fitted</span></span></label><div class=\"sk-toggleable__content fitted\"><pre>RandomForestRegressor()</pre></div> </div></div></div></div>"
      ],
      "text/plain": [
       "RandomForestRegressor()"
      ]
     },
     "execution_count": 17,
     "metadata": {},
     "output_type": "execute_result"
    }
   ],
   "source": [
    "reg.fit(x_train,y_train)"
   ]
  },
  {
   "cell_type": "markdown",
   "id": "44fd13ec-d9b5-42f5-9124-537e66014992",
   "metadata": {},
   "source": [
    "#### Model Evaluation"
   ]
  },
  {
   "cell_type": "code",
   "execution_count": 18,
   "id": "b9d96192-79be-4b88-b013-9c88d3d47421",
   "metadata": {},
   "outputs": [],
   "source": [
    "test_data_prediction=reg.predict(x_test)"
   ]
  },
  {
   "cell_type": "code",
   "execution_count": 19,
   "id": "3b38e527-fa30-4c87-a2ef-9019d213ed2f",
   "metadata": {},
   "outputs": [
    {
     "name": "stdout",
     "output_type": "stream",
     "text": [
      "[168.57159989  81.85000003 115.80370007 127.78740088 120.93630103\n",
      " 155.02789778 150.2871982  126.04110038 117.46159856 125.95510112\n",
      " 116.61150085 171.86280059 141.95029893 167.9998991  115.25199979\n",
      " 117.6499004  139.50850252 170.31900105 159.82570377 158.98039893\n",
      " 155.26060037 125.21580014 175.57909996 157.23480287 125.21030044\n",
      "  93.90779932  77.27530021 120.56719993 119.1213995  167.59029948\n",
      "  88.31600057 125.25909981  91.01000077 117.68210032 121.11709957\n",
      " 136.32160025 115.37550154 115.2924006  146.49329925 107.0698006\n",
      " 104.67660259  87.19919809 126.46920049 117.83150025 152.6773995\n",
      " 119.70189998 108.57259957 108.01099833  93.17230018 127.08209805\n",
      "  74.65830047 113.61859947 121.37109987 111.33159869 118.85749877\n",
      " 121.07089933 158.61990101 167.94510075 147.12729722  85.95809862\n",
      "  94.19470043  86.9257991   90.61989991 118.97970084 126.36230046\n",
      " 127.65130018 170.46639996 122.23629918 117.68529856  98.28340027\n",
      " 168.76020161 143.16219902 131.65190298 121.21770216 120.88619936\n",
      " 119.61930068 114.46320156 118.19360065 107.04710101 127.91350028\n",
      " 113.91649958 107.2422999  116.94950062 119.64649873  89.24280062\n",
      "  88.14439842 146.95870253 126.93769954 113.14190043 110.16619841\n",
      " 108.24239905  77.18689921 169.58330226 113.84939892 121.54989926\n",
      " 127.97080152 155.04369842  91.93439996 135.46170146 158.69110359\n",
      " 125.0749007  125.19000062 130.48660118 114.75480121 119.77729986\n",
      "  92.2705     110.45429881 168.82749949 156.66319899 114.08339931\n",
      " 106.49600111  79.86519977 113.17500037 125.75830073 107.0442993\n",
      " 119.1045007  155.4448033  159.36639776 120.22329997 135.19900278\n",
      " 101.5995     117.67239807 119.18700038 113.06040064 102.80399902\n",
      " 160.17069732  98.88450041 148.40979834 125.60750077 169.89779899\n",
      " 125.7771988  127.32779772 127.29070156 113.71549947 112.59740058\n",
      " 123.52109892 102.19159914  89.35989975 124.47589982 101.55209947\n",
      " 107.06569883 113.14660061 117.27160048  98.84469948 121.80780047\n",
      " 163.34369894  87.38699846 106.86419989 117.32540066 127.74790102\n",
      " 124.09550091  80.69519894 120.53050041 158.23009796  87.94469899\n",
      " 110.47019939 118.96099906 172.43809837 103.03769891 105.56760067\n",
      " 122.86140041 158.47939786  87.20049838  93.31800064 112.63800028\n",
      " 177.46420002 114.56309951 119.1747006   94.8532009  125.71970076\n",
      " 165.59270196 114.66980055 116.95180133  88.13119853 148.45930034\n",
      " 120.35999956  89.25349973 111.84389979 116.98550059 118.65590109\n",
      "  88.3276996   94.32869997 117.16440036 118.482902   120.12040063\n",
      " 126.8100981  121.89409979 151.79380015 165.04180171 118.54639954\n",
      " 120.38550154 150.0206006  118.51039888 173.05069829 105.55719953\n",
      " 105.09520093 148.74830044 113.59550035 124.80620133 147.0040999\n",
      " 119.72080124 115.3684007  112.6418998  113.53090187 141.72390146\n",
      " 117.96159753 102.97330037 115.96010122 104.07220184  98.35840043\n",
      " 117.83880052  90.76989966  91.58500031 153.48529915 102.76099998\n",
      " 153.56070061 114.4398015  139.68590088  90.03929834 115.56459931\n",
      " 114.17160014 122.56560044 121.64970035 165.3286018   92.86629939\n",
      " 134.63740111 121.35709929 120.58590085 104.48300001 142.56470266\n",
      " 121.89989917 116.63120046 113.42290121 127.22739728 122.81409956\n",
      " 125.73869987 121.24640047  86.86149908 132.18900125 143.58040175\n",
      "  92.54249982 159.35249912 159.3047022  126.10069918 164.31020003\n",
      " 108.9437996  110.27600077 103.53119826  94.39840032 127.54100223\n",
      " 107.07930037 162.11819934 121.79820049 132.02280067 130.59980124\n",
      " 160.38770123  90.06809857 174.70070181 127.14949999 126.75899858\n",
      "  86.44709913 124.36459931 150.25869716  89.61530012 106.99189975\n",
      " 109.07819986  85.00889918 135.55329965 155.17940141 139.60170274\n",
      "  74.21260044 152.08190098 126.22039975 126.69060002 127.4917986\n",
      " 108.58149949 156.20120007 114.36890103 116.8698014  125.49219962\n",
      " 154.00990126 121.30959998 156.33599959  92.92660062 125.46440108\n",
      " 125.70430093  87.9477007   92.11409911 126.29869937 128.40110425\n",
      " 113.12930055 117.61939744 120.77659997 127.23809826 119.85500111\n",
      " 136.48700104  93.80079908 119.92230066 113.21480108  94.25509933\n",
      " 108.83000005  88.29109927 108.99539938  89.76659963  92.4918002\n",
      " 131.48580308 162.42840067  89.25330032 119.59940085 133.43370164\n",
      " 123.87690015 128.24030125 101.98739858  89.07719884 131.69150101\n",
      " 119.64150015 108.77639981 168.71670108 115.18290046  86.61139886\n",
      " 118.8064007   91.09829984 161.66880088 116.61710057 121.47870014\n",
      " 160.17069756 120.1424992  112.97869914 108.53059872 126.76499963\n",
      "  75.84200026 103.06559986 127.40410231 121.66139962  92.52890042\n",
      " 132.12080048 118.12470104 115.87739977 154.02400302 159.27110077\n",
      " 110.02489941 153.87909816 119.23930088 160.4070009  118.66800059\n",
      " 158.1914997  115.03239919 116.58300031 150.21929916 114.66250054\n",
      " 125.80039847 166.39919954 117.56900006 125.19439948 153.17600345\n",
      " 153.50390287 132.11200032 114.80880033 121.27560187 124.6640006\n",
      "  89.72260035 123.13840001 154.83930144 111.7860003  106.96450009\n",
      " 161.76020162 118.65710009 165.65719941 134.30250051 114.95439941\n",
      " 152.96419855 168.70270019 114.55510037 114.07300137 157.31039877\n",
      "  85.26699917 127.04990057 127.85450077 128.9348996  124.3080007\n",
      " 123.71260104  90.75810056 153.20730041  96.99259969 138.34869971\n",
      "  88.85249918 107.2701001  115.08520037 112.47320094 123.96159897\n",
      "  91.38319874 125.29640085 162.32819897 119.73279908 165.12530104\n",
      " 126.743898   112.41760008 127.55079966  94.81209889  90.83589951\n",
      " 103.47569933 120.80980006  83.32569927 126.37839982 160.69780408\n",
      " 117.28710093 118.33939966 119.68459982 122.7021997  120.05660128\n",
      " 121.34139994 118.24750069 106.87829961 148.11280007 126.20439857\n",
      " 115.80190073  73.82269996 127.7977012  153.66670099 122.17939988\n",
      " 125.6725004   88.84030029 102.97739848 124.75910082 120.37020021\n",
      "  73.35640081 151.30600054 121.23750029 104.74290011  86.54759783\n",
      " 115.29239895 172.23839864 119.77360028 160.02399805 113.24039952\n",
      " 121.36710015 118.76030114  96.02709994 118.87650079 125.89860031\n",
      " 118.55889953  95.92940091 153.48890218 121.94269992 147.48079939\n",
      " 159.54360292 113.38040003 122.52699925 148.70639864 126.89550015\n",
      " 166.06879993 136.50730035 119.95319978 166.88549873 108.44749931\n",
      " 121.78539855 139.18820196 106.49359913]\n"
     ]
    }
   ],
   "source": [
    "print(test_data_prediction)"
   ]
  },
  {
   "cell_type": "markdown",
   "id": "8182ab1b-ae98-41f7-83e2-201b0f61f86f",
   "metadata": {},
   "source": [
    "#### R Squared error"
   ]
  },
  {
   "cell_type": "code",
   "execution_count": 20,
   "id": "c718d761-495e-4369-8384-7bd5ace5b2ef",
   "metadata": {},
   "outputs": [
    {
     "name": "stdout",
     "output_type": "stream",
     "text": [
      "R squared error : 0.9888875589201053\n"
     ]
    }
   ],
   "source": [
    "error_score=metrics.r2_score(y_test,test_data_prediction)\n",
    "print(\"R squared error :\", error_score)"
   ]
  },
  {
   "cell_type": "markdown",
   "id": "478b23f1-121e-4a58-9857-80c4de46bfe2",
   "metadata": {},
   "source": [
    "#### Compare the actual values and predicted values in a plot"
   ]
  },
  {
   "cell_type": "code",
   "execution_count": 21,
   "id": "566a39c1-0e53-4702-9df9-a2fc491535b1",
   "metadata": {},
   "outputs": [],
   "source": [
    "y_test = list(y_test)"
   ]
  },
  {
   "cell_type": "code",
   "execution_count": 22,
   "id": "d9dff352-d93c-4689-b154-7cb9d653148d",
   "metadata": {},
   "outputs": [
    {
     "data": {
      "image/png": "[encoded data removed]",
      "text/plain": [
       "<Figure size 640x480 with 1 Axes>"
      ]
     },
     "metadata": {},
     "output_type": "display_data"
    }
   ],
   "source": [
    "plt.plot(y_test, color='red', label='Actual Value')\n",
    "plt.plot(test_data_prediction, color='green', label='Predicted Value')\n",
    "plt.title('Actual vs Predicted Price')\n",
    "plt.xlabel('Number of values')\n",
    "plt.ylabel('GLD Price')\n",
    "plt.legend()\n",
    "plt.show()"
   ]
  }
 ],
 "metadata": {
  "kernelspec": {
   "display_name": "Python 3 (ipykernel)",
   "language": "python",
   "name": "python3"
  },
  "language_info": {
   "codemirror_mode": {
    "name": "ipython",
    "version": 3
   },
   "file_extension": ".py",
   "mimetype": "text/x-python",
   "name": "python",
   "nbconvert_exporter": "python",
   "pygments_lexer": "ipython3",
   "version": "3.11.3"
  }
 },
 "nbformat": 4,
 "nbformat_minor": 5
}
